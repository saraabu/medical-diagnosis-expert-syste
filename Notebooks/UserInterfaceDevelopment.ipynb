{
 "cells": [
  {
   "cell_type": "code",
   "execution_count": 1,
   "id": "49f54041",
   "metadata": {},
   "outputs": [
    {
     "name": "stdout",
     "output_type": "stream",
     "text": [
      "          Disease                                        Description  \\\n",
      "0   Drug Reaction  An adverse drug reaction (ADR) is an injury ca...   \n",
      "1         Malaria  An infectious disease caused by protozoan para...   \n",
      "2         Allergy  An allergy is an immune system response to a f...   \n",
      "3  Hypothyroidism  Hypothyroidism, also called underactive thyroi...   \n",
      "4       Psoriasis  Psoriasis is a common skin disorder that forms...   \n",
      "\n",
      "                       Precaution_1                  Precaution_2  \\\n",
      "0                   stop irritation      consult nearest hospital   \n",
      "1          Consult nearest hospital               avoid oily food   \n",
      "2                    apply calamine       cover area with bandage   \n",
      "3                     reduce stress                      exercise   \n",
      "4  wash hands with warm soapy water  stop bleeding using pressure   \n",
      "\n",
      "         Precaution_3                 Precaution_4  \n",
      "0    stop taking drug                    follow up  \n",
      "1  avoid non veg food           keep mosquitos out  \n",
      "2                 NaN  use ice to compress itching  \n",
      "3         eat healthy             get proper sleep  \n",
      "4      consult doctor                   salt baths  \n",
      "Select a disease: Malaria\n",
      "An infectious disease caused by protozoan parasites from the Plasmodium family that can be transmitted by the bite of the Anopheles mosquito or by a contaminated needle or transfusion. Falciparum malaria is the most deadly type.\n",
      "\n",
      "Precautions:\n",
      "1. Consult nearest hospital\n",
      "2. avoid oily food\n",
      "3. avoid non veg food\n",
      "4. keep mosquitos out\n"
     ]
    }
   ],
   "source": [
    "import pandas as my_pandas\n",
    "\n",
    "\n",
    "symptom_severity = my_pandas.read_csv('Symptom-severity.csv')\n",
    "disease_description = my_pandas.read_csv('symptom_Description.csv')\n",
    "disease_precaution = my_pandas.read_csv('symptom_precaution.csv')\n",
    "\n",
    "# Merging \n",
    "disease_info = my_pandas.merge(disease_description, disease_precaution, on='Disease')\n",
    "print(disease_info.head())  \n",
    "\n",
    "\n",
    "def update_info(disease_selected):\n",
    "    row = disease_info[disease_info['Disease'] == disease_selected].iloc[0]\n",
    "    description = row['Description']\n",
    "    precautions = f\"Precautions:\\n1. {row['Precaution_1']}\\n2. {row['Precaution_2']}\\n3. {row['Precaution_3']}\\n4. {row['Precaution_4']}\"\n",
    "    print(f\"{description}\\n\\n{precautions}\")\n",
    "\n",
    "\n",
    "disease_selected = input(\"Select a disease: \")\n",
    "update_info(disease_selected)\n"
   ]
  },
  {
   "cell_type": "code",
   "execution_count": null,
   "id": "ba6ca525",
   "metadata": {},
   "outputs": [],
   "source": []
  }
 ],
 "metadata": {
  "kernelspec": {
   "display_name": "Python 3 (ipykernel)",
   "language": "python",
   "name": "python3"
  },
  "language_info": {
   "codemirror_mode": {
    "name": "ipython",
    "version": 3
   },
   "file_extension": ".py",
   "mimetype": "text/x-python",
   "name": "python",
   "nbconvert_exporter": "python",
   "pygments_lexer": "ipython3",
   "version": "3.11.5"
  }
 },
 "nbformat": 4,
 "nbformat_minor": 5
}
