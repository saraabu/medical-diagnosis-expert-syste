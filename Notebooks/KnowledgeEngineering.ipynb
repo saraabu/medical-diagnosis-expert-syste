{
 "cells": [
  {
   "cell_type": "code",
   "execution_count": 3,
   "id": "0d434f8d",
   "metadata": {},
   "outputs": [],
   "source": [
    "from pandas import read_csv as pd_read_csv\n",
    "\n",
    "\n",
    "disease_data = pd_read_csv('dataset.csv')\n",
    "symptom_desc = pd_read_csv('symptom_Description.csv')\n",
    "symptom_prec = pd_read_csv('symptom_precaution.csv')\n",
    "\n",
    "\n",
    "symptom_desc.columns = [col.strip() for col in symptom_desc.columns]\n",
    "symptom_prec.columns = [col.strip() for col in symptom_prec.columns]\n",
    "\n",
    "\n",
    "symptom_desc_dict = symptom_desc.set_index('Disease').to_dict()['Description']\n",
    "symptom_prec_dict = symptom_prec.set_index('Disease').to_dict()\n",
    "\n",
    "def write_rules(file_path, disease_data, symptom_desc_dict, symptom_prec_dict):\n",
    "    import pandas as pd  # Importing pandas with the 'pd' alias in the function scope\n",
    "\n",
    "    with open(file_path, 'w') as file:\n",
    "        # Define templates\n",
    "        file.write('''\n",
    ";; Define templates\n",
    "(deftemplate illness\n",
    "    (multislot symptoms)  ;; Use multislot for multiple values\n",
    "    (slot description)\n",
    "    (multislot precautions)\n",
    "    (slot name))\n",
    "\n",
    ";; Define symptom facts\n",
    "''')\n",
    "\n",
    "       \n",
    "        for index, row in disease_data.iterrows():\n",
    "            illness_name = row['Disease'].replace(' ', '_').replace('(', '').replace(')', '')\n",
    "            # Gather all symptom columns into a list\n",
    "            symptoms = [row[s].strip() for s in disease_data.columns if 'Symptom' in s and not pd.isnull(row[s])]\n",
    "            description = symptom_desc_dict.get(row['Disease'], 'No description available')\n",
    "            \n",
    "            precautions = [row[p].strip() for p in disease_data.columns if 'Precaution' in p and not pd.isnull(row[p])]\n",
    "            precautions_str = ' '.join(f'\"{p}\"' for p in precautions)\n",
    "            \n",
    "            file.write(f'''\n",
    "(defrule {illness_name}\n",
    "    (or {\" \".join(f'(symptom (name \"{symptom}\"))' for symptom in symptoms)})\n",
    "    =>\n",
    "    (assert (illness (name \"{row['Disease']}\") \n",
    "                     (symptoms {\" \".join(f'\"{symptom}\"' for symptom in symptoms)}) \n",
    "                     (description \"{description}\") \n",
    "                     (precautions {precautions_str})))\n",
    ")\n",
    "''')\n",
    "\n",
    "\n",
    "write_rules('medical_rules.clp', disease_data, symptom_desc_dict, symptom_prec_dict)\n"
   ]
  },
  {
   "cell_type": "code",
   "execution_count": null,
   "id": "0a370162",
   "metadata": {},
   "outputs": [],
   "source": []
  }
 ],
 "metadata": {
  "kernelspec": {
   "display_name": "Python 3 (ipykernel)",
   "language": "python",
   "name": "python3"
  },
  "language_info": {
   "codemirror_mode": {
    "name": "ipython",
    "version": 3
   },
   "file_extension": ".py",
   "mimetype": "text/x-python",
   "name": "python",
   "nbconvert_exporter": "python",
   "pygments_lexer": "ipython3",
   "version": "3.11.5"
  }
 },
 "nbformat": 4,
 "nbformat_minor": 5
}
